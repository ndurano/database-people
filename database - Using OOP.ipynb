{
 "cells": [
  {
   "cell_type": "markdown",
   "metadata": {},
   "source": [
    "# STEP THREE - STEPING UP TO OOP"
   ]
  },
  {
   "cell_type": "markdown",
   "metadata": {},
   "source": [
    "We will implement our database records as class instances other than as dictionaries."
   ]
  },
  {
   "cell_type": "code",
   "execution_count": 1,
   "metadata": {
    "collapsed": false
   },
   "outputs": [
    {
     "name": "stdout",
     "output_type": "stream",
     "text": [
      "('Bob Smith', 45000)\n",
      "Smith\n",
      "49500.0\n"
     ]
    }
   ],
   "source": [
    "class Person:\n",
    "    def __init__(self, name, age, pay=0, job=None):\n",
    "        self.name = name\n",
    "        self.age = age\n",
    "        self.pay = pay\n",
    "        self.job = job\n",
    "        \n",
    "if __name__ == '__main__':\n",
    "    bob = Person('Bob Smith', 42, 30000, 'software')\n",
    "    sue = Person('Sue Jones', 45, 45000, 'hardware')\n",
    "    print(bob.name, sue.pay)\n",
    "    \n",
    "    print(bob.name.split()[-1])\n",
    "    sue.pay*=1.10\n",
    "    print(sue.pay)\n",
    "    \n",
    "    "
   ]
  },
  {
   "cell_type": "markdown",
   "metadata": {},
   "source": [
    "There is not much to this class - just a constructor method that fills out the instance with data passed in arguments to the class name.\n",
    "It is sufficient to represent a database record though and and it can already provide tools such as defaults for pay and job fields that dictionaries cannot.\n",
    "The self-test code at the bottom of this file creates two instances(records) and accesses their attributes(fields)\n",
    "The file's output when run is shown.\n"
   ]
  },
  {
   "cell_type": "markdown",
   "metadata": {},
   "source": [
    "ADDING BEHAVIOUR\n"
   ]
  },
  {
   "cell_type": "markdown",
   "metadata": {},
   "source": [
    "So far our class is just data; it replaces dictionary keys with object attributes but it doessn't add much to what we had before.\n",
    "To leverage the power of classes, we need to add some behaviour. By wrapping up bits of behaviour in class method functions, we can insulate clients from changes.\n",
    "By packaging methods in class along with data, we provide a natural place for readers to look for code.\n",
    "In a sense, classes combine records and programs that process those records; methis provide logic that interpretes and updates the data.\n"
   ]
  },
  {
   "cell_type": "markdown",
   "metadata": {},
   "source": [
    "For instance, the example below, person.py, adds the last-name and raise logic calss methods; mrthods use the self argument to access or updtae the instance(record) being processed.\n"
   ]
  },
  {
   "cell_type": "code",
   "execution_count": 3,
   "metadata": {
    "collapsed": false
   },
   "outputs": [
    {
     "name": "stdout",
     "output_type": "stream",
     "text": [
      "('Bob Smith', 40000)\n",
      "Smith\n",
      "44000.0\n"
     ]
    }
   ],
   "source": [
    "class Person:\n",
    "    def __init__(self, name, age, pay=0, job=None):\n",
    "        self.name = name\n",
    "        self.age = age\n",
    "        self.pay = pay\n",
    "        self.job = job\n",
    "    \n",
    "    def lastName(self):\n",
    "        return self.name.split()[-1]\n",
    "    \n",
    "    def giveRaise(self, percent):\n",
    "        self.pay *= (1.0 + percent)\n",
    "        \n",
    "if __name__ == '__main__':\n",
    "    bob = Person('Bob Smith', 42, 30000, 'software')\n",
    "    sue = Person('Sue Jones', 45, 40000, 'hardware')\n",
    "    print(bob.name, sue.pay)\n",
    "    \n",
    "    \n",
    "    print(bob.lastName())\n",
    "    sue.giveRaise(.10)\n",
    "    print(sue.pay)\n",
    "    \n",
    "    "
   ]
  },
  {
   "cell_type": "markdown",
   "metadata": {},
   "source": [
    "The output of this script is the same as the last but the results are being computed by methods now not by hardcoded logic that appears redudantly wherever it is required\n",
    "\n"
   ]
  },
  {
   "cell_type": "code",
   "execution_count": null,
   "metadata": {
    "collapsed": true
   },
   "outputs": [],
   "source": []
  },
  {
   "cell_type": "markdown",
   "metadata": {},
   "source": [
    "# Adding Inheritance"
   ]
  },
  {
   "cell_type": "markdown",
   "metadata": {},
   "source": [
    "One last enhancement to our records before they become permanent: because they are implemented as classes, they naturally support customization through the inheritance search mechanism in Python."
   ]
  },
  {
   "cell_type": "markdown",
   "metadata": {},
   "source": [
    "For instance, the example below customizes the last section of the Person class in order to give a 10 percent bonus by default to managers whenever they recieve raise.\n",
    "\n"
   ]
  },
  {
   "cell_type": "code",
   "execution_count": 4,
   "metadata": {
    "collapsed": false
   },
   "outputs": [
    {
     "name": "stdout",
     "output_type": "stream",
     "text": [
      "Doe\n",
      "65000.0\n"
     ]
    }
   ],
   "source": [
    "#manager.py\n",
    "from person import Person\n",
    "\n",
    "class Manager(Person):\n",
    "    def giveRaise(self, percent, bonus=0.1):\n",
    "        self.pay *= (1.0 + percent + bonus)\n",
    "        \n",
    "if __name__ == '__main__':\n",
    "    tom = Manager(name='Tom Doe', age=50, pay=50000)\n",
    "    print(tom.lastName())\n",
    "    tom.giveRaise(.20)\n",
    "    print(tom.pay)\n",
    "    \n",
    "    "
   ]
  },
  {
   "cell_type": "markdown",
   "metadata": {},
   "source": [
    "Here, the manager class appears in a module of its own, but could have been added to the person module.\n",
    "It inherits the cinstructor and the last name methods from its superclass but customizes just the giveRaise method.\n",
    "Because this change is being added as a new subclass, the original Person calss and any objects generated from it will continue working unchanged.\n",
    "Bob and Sue for example inherit the original raise logic but Tom gets a custom version becuae of the class from which he is created.\n",
    "In OOP, we program by customizing not by changing."
   ]
  },
  {
   "cell_type": "markdown",
   "metadata": {},
   "source": [
    "In Python, this behaviour is known as Polymorphism; it's a core property of the language and it accounts for much of your code's flexibility.\n"
   ]
  }
 ],
 "metadata": {
  "kernelspec": {
   "display_name": "Python 2",
   "language": "python",
   "name": "python2"
  },
  "language_info": {
   "codemirror_mode": {
    "name": "ipython",
    "version": 2
   },
   "file_extension": ".py",
   "mimetype": "text/x-python",
   "name": "python",
   "nbconvert_exporter": "python",
   "pygments_lexer": "ipython2",
   "version": "2.7.11"
  }
 },
 "nbformat": 4,
 "nbformat_minor": 0
}

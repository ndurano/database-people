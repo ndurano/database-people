{
 "cells": [
  {
   "cell_type": "markdown",
   "metadata": {},
   "source": [
    "# STEP TWO - REPRESENTING RECORD PERMANENTLY"
   ]
  },
  {
   "cell_type": "markdown",
   "metadata": {},
   "source": [
    "So far we have settled on a dictionary-based representation for our databse of records and we have reviewed some Python data structure cconcepts along the way.\n",
    "The objects we have seen so far are temporary - they live in memory and they go as soon as we exit Python or the Python program that created them.\n",
    "To make our people persistent, they need to be stored in a file of some sort."
   ]
  },
  {
   "cell_type": "markdown",
   "metadata": {},
   "source": [
    "USING FORMATTED FILES"
   ]
  },
  {
   "cell_type": "markdown",
   "metadata": {},
   "source": [
    "One way to keep our data around between program runs it to write all the data out to a simple text file, in a formatted way.\n",
    "Provided the saving and loading tools agree on the format, we are free to use any custom scheme we like."
   ]
  },
  {
   "cell_type": "code",
   "execution_count": null,
   "metadata": {
    "collapsed": true
   },
   "outputs": [],
   "source": [
    "Text Data Script"
   ]
  },
  {
   "cell_type": "markdown",
   "metadata": {},
   "source": [
    "So that we don't have to keep working interactively, let's first write a script that initializes the data we are going to store .\n",
    "The example below creates the sort of records and database dictionary we have been working with so far, but because it is a module, we can imprt repeatedly without having to retype the code each time.\n",
    "In a sense, this module is a database itself, but its program code format doesn't support automatic or end-user update as is."
   ]
  },
  {
   "cell_type": "code",
   "execution_count": 2,
   "metadata": {
    "collapsed": false
   },
   "outputs": [
    {
     "name": "stdout",
     "output_type": "stream",
     "text": [
      "('bob', '=>\\n', {'job': 'dev', 'pay': 30000, 'age': 42, 'name': 'Bob Smith'})\n",
      "('sue', '=>\\n', {'hdw': None, 'pay': 40000, 'age': 45, 'name': 'Sue Jones'})\n",
      "('tom', '=>\\n', {'job': None, 'pay': 0, 'age': 50, 'name': 'Tom'})\n"
     ]
    }
   ],
   "source": [
    "####Example 1. initdata.py\n",
    "#initialize data to be stored in files, pickles, shelves\n",
    "\n",
    "#records\n",
    "bob = {'name': 'Bob Smith', 'age': 42, 'pay' : 30000, 'job' : 'dev'}\n",
    "sue = {'name' : 'Sue Jones', 'age' : 45, 'pay': 40000, 'hdw': None }\n",
    "tom = {'name' : 'Tom' , 'age' : 50, 'pay' : 0, 'job' : None}\n",
    "\n",
    "#database\n",
    "db = {}\n",
    "db['bob'] = bob\n",
    "db['sue'] = sue\n",
    "db['tom'] = tom\n",
    "\n",
    "if __name__ == '__main__':  #when run as a script\n",
    "    for key in db:\n",
    "        print(key, '=>\\n', db[key] )"
   ]
  },
  {
   "cell_type": "markdown",
   "metadata": {},
   "source": [
    "Aa usual, the __name__ test at the bottom of the example above is true only when this file is run.\n",
    "When run as a top level script, e.g from a command line, via an icon click or within an IDLE GUI, the file self-test code under this test dumps the databse's contents to the standard output stream"
   ]
  },
  {
   "cell_type": "markdown",
   "metadata": {},
   "source": [
    "Here is the script in action being run from a system command line on Linux.\n",
    "\n",
    "\n",
    "('bob', '=>\\n', {'job': 'dev', 'pay': 30000, 'age': 42, 'name': 'Bob Smith'})\n",
    "('sue', '=>\\n', {'hdw': None, 'pay': 40000, 'age': 45, 'name': 'Sue Jones'})\n",
    "('tom', '=>\\n', {'job': None, 'pay': 0, 'age': 50, 'name': 'Tom'})\n",
    "\n",
    "\n"
   ]
  },
  {
   "cell_type": "markdown",
   "metadata": {},
   "source": [
    "DATA FORMAT SCRIPT"
   ]
  },
  {
   "cell_type": "markdown",
   "metadata": {},
   "source": [
    "Now all we have to do is store all of this in-memory data in a file.\n",
    "There are a variety of ways to accomplish this; one of the most basic is to write one piece of data at a time, with separators between each so that we can use when reloading to break the data apart.\n"
   ]
  },
  {
   "cell_type": "markdown",
   "metadata": {},
   "source": [
    "The example below shows one way to code this idea.\n",
    "It is saved as make_db_file.py"
   ]
  },
  {
   "cell_type": "code",
   "execution_count": null,
   "metadata": {
    "collapsed": true
   },
   "outputs": [],
   "source": [
    "#EXAMPLE 2\n",
    "#Save in-memory database object to a file with custom formatting;\n",
    "#assume 'endrec.', 'enddb.', and '=>' are not used in the data;\n",
    "#assume db is dict of dict; warning: eval can be dangerous - it\n",
    "#runs strings as code; could also eval() record dict all at once;\n",
    "#could also dbfile.write(key + '\\n') vs print(key, file=dbfile);\n",
    "#\"\"\"\n",
    "\n",
    "dbfilename = 'people-file'\n",
    "ENDDB = 'enddb.'\n",
    "ENDREC = 'endrec.'\n",
    "RECSEP = '=>'\n",
    "\n",
    "\n",
    "def storeDbase(db, dbfilename=dbfilename):\n",
    "    \"formatted dump of database to flat file\"\n",
    "    dbfile = open(dbfilename, 'w')\n",
    "    for key in db:\n",
    "        print(key, file=dbfile)\n",
    "        for (name, value) in db[key].items():\n",
    "            print(name + RECSEP + repr(value), file=dbfile)\n",
    "        print(ENDREC, file=dbfile)\n",
    "    print(ENDDB, file=dbfile)\n",
    "    dbfile.close()\n",
    "    \n",
    "    \n",
    "def loadDbase(dbfilename=dbfilename):\n",
    "    \"parse data to reconstruct database\"\n",
    "    dbfile = open(dbfilename)\n",
    "    import sys\n",
    "    sys.stdin = dbfile\n",
    "    db = {}\n",
    "    key = input()\n",
    "    while key != ENDDB:\n",
    "        rec = {}\n",
    "        field = input()\n",
    "        while field != ENDREC:\n",
    "            name, value = field.split(RECSEP)\n",
    "            rec[name] = eval(value)\n",
    "            field = input()\n",
    "        db[key] = rec\n",
    "        key = input()\n",
    "    return db\n",
    "\n",
    "\n",
    "if __name__ == '__main__':\n",
    "from initdata import db\n",
    "storeDbase(db)\n"
   ]
  },
  {
   "cell_type": "markdown",
   "metadata": {},
   "source": [
    "This is partly a complex program, partly because it has both saving and loading logic and partly because it does the job the hard way.\n",
    "As we will see in a moment, there are better ways to get objects into files than by manually formatting and parsing them.\n",
    "For simple task though, this does work.\n",
    " Running example 2 as a script writes the database out to a flat file.\n",
    " It has no printed output but we can inspect the database file interactively after this script is run"
   ]
  }
 ],
 "metadata": {
  "kernelspec": {
   "display_name": "Python 2",
   "language": "python",
   "name": "python2"
  },
  "language_info": {
   "codemirror_mode": {
    "name": "ipython",
    "version": 2
   },
   "file_extension": ".py",
   "mimetype": "text/x-python",
   "name": "python",
   "nbconvert_exporter": "python",
   "pygments_lexer": "ipython2",
   "version": "2.7.11"
  }
 },
 "nbformat": 4,
 "nbformat_minor": 0
}
